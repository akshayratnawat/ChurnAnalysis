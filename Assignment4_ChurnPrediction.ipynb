{
 "cells": [
  {
   "cell_type": "markdown",
   "metadata": {},
   "source": [
    "### Assignment 4  - Data Science For Consultancy"
   ]
  },
  {
   "cell_type": "code",
   "execution_count": 1,
   "metadata": {},
   "outputs": [],
   "source": [
    "# Import libraries for data analysis\n",
    "import pandas as pd \n",
    "import numpy as np\n",
    "\n",
    "import warnings\n",
    "\n",
    "warnings.simplefilter(\"ignore\", UserWarning)"
   ]
  },
  {
   "cell_type": "markdown",
   "metadata": {},
   "source": [
    "### Read data file"
   ]
  },
  {
   "cell_type": "code",
   "execution_count": 2,
   "metadata": {},
   "outputs": [],
   "source": [
    "# path = ':C//documents/'\n",
    "churn_data = pd.read_excel('Fitness Club Data.xlsx') \n",
    "\n",
    "#read csv file -> pd.read_csv"
   ]
  },
  {
   "cell_type": "code",
   "execution_count": 3,
   "metadata": {},
   "outputs": [],
   "source": [
    "# churn_data.tail(10)"
   ]
  },
  {
   "cell_type": "code",
   "execution_count": 4,
   "metadata": {},
   "outputs": [
    {
     "data": {
      "text/html": [
       "<div>\n",
       "<style scoped>\n",
       "    .dataframe tbody tr th:only-of-type {\n",
       "        vertical-align: middle;\n",
       "    }\n",
       "\n",
       "    .dataframe tbody tr th {\n",
       "        vertical-align: top;\n",
       "    }\n",
       "\n",
       "    .dataframe thead th {\n",
       "        text-align: right;\n",
       "    }\n",
       "</style>\n",
       "<table border=\"1\" class=\"dataframe\">\n",
       "  <thead>\n",
       "    <tr style=\"text-align: right;\">\n",
       "      <th></th>\n",
       "      <th>enrolldt</th>\n",
       "      <th>price</th>\n",
       "      <th>downpmt</th>\n",
       "      <th>monthdue</th>\n",
       "      <th>pmttype</th>\n",
       "      <th>use</th>\n",
       "      <th>age</th>\n",
       "      <th>gender</th>\n",
       "      <th>default</th>\n",
       "    </tr>\n",
       "  </thead>\n",
       "  <tbody>\n",
       "    <tr>\n",
       "      <th>0</th>\n",
       "      <td>19970101</td>\n",
       "      <td>2178.85</td>\n",
       "      <td>250.00</td>\n",
       "      <td>6.0</td>\n",
       "      <td>4</td>\n",
       "      <td>1</td>\n",
       "      <td>0</td>\n",
       "      <td>2</td>\n",
       "      <td>0</td>\n",
       "    </tr>\n",
       "    <tr>\n",
       "      <th>1</th>\n",
       "      <td>19970101</td>\n",
       "      <td>1543.65</td>\n",
       "      <td>1543.65</td>\n",
       "      <td>6.0</td>\n",
       "      <td>1</td>\n",
       "      <td>0</td>\n",
       "      <td>0</td>\n",
       "      <td>2</td>\n",
       "      <td>0</td>\n",
       "    </tr>\n",
       "    <tr>\n",
       "      <th>2</th>\n",
       "      <td>19970101</td>\n",
       "      <td>1107.67</td>\n",
       "      <td>125.00</td>\n",
       "      <td>5.0</td>\n",
       "      <td>1</td>\n",
       "      <td>0</td>\n",
       "      <td>0</td>\n",
       "      <td>2</td>\n",
       "      <td>0</td>\n",
       "    </tr>\n",
       "    <tr>\n",
       "      <th>3</th>\n",
       "      <td>19970102</td>\n",
       "      <td>950.44</td>\n",
       "      <td>237.61</td>\n",
       "      <td>9.0</td>\n",
       "      <td>5</td>\n",
       "      <td>0</td>\n",
       "      <td>0</td>\n",
       "      <td>1</td>\n",
       "      <td>0</td>\n",
       "    </tr>\n",
       "    <tr>\n",
       "      <th>4</th>\n",
       "      <td>19970103</td>\n",
       "      <td>1436.00</td>\n",
       "      <td>250.00</td>\n",
       "      <td>9.0</td>\n",
       "      <td>3</td>\n",
       "      <td>0</td>\n",
       "      <td>0</td>\n",
       "      <td>2</td>\n",
       "      <td>0</td>\n",
       "    </tr>\n",
       "    <tr>\n",
       "      <th>5</th>\n",
       "      <td>19970104</td>\n",
       "      <td>1248.00</td>\n",
       "      <td>150.00</td>\n",
       "      <td>12.0</td>\n",
       "      <td>1</td>\n",
       "      <td>0</td>\n",
       "      <td>0</td>\n",
       "      <td>1</td>\n",
       "      <td>0</td>\n",
       "    </tr>\n",
       "    <tr>\n",
       "      <th>6</th>\n",
       "      <td>19970105</td>\n",
       "      <td>249.00</td>\n",
       "      <td>249.00</td>\n",
       "      <td>8.0</td>\n",
       "      <td>1</td>\n",
       "      <td>0</td>\n",
       "      <td>0</td>\n",
       "      <td>2</td>\n",
       "      <td>0</td>\n",
       "    </tr>\n",
       "    <tr>\n",
       "      <th>7</th>\n",
       "      <td>19970105</td>\n",
       "      <td>909.79</td>\n",
       "      <td>350.00</td>\n",
       "      <td>13.0</td>\n",
       "      <td>5</td>\n",
       "      <td>1</td>\n",
       "      <td>0</td>\n",
       "      <td>2</td>\n",
       "      <td>0</td>\n",
       "    </tr>\n",
       "    <tr>\n",
       "      <th>8</th>\n",
       "      <td>19970106</td>\n",
       "      <td>1677.00</td>\n",
       "      <td>125.00</td>\n",
       "      <td>10.0</td>\n",
       "      <td>1</td>\n",
       "      <td>0</td>\n",
       "      <td>0</td>\n",
       "      <td>2</td>\n",
       "      <td>1</td>\n",
       "    </tr>\n",
       "    <tr>\n",
       "      <th>9</th>\n",
       "      <td>19970106</td>\n",
       "      <td>1844.00</td>\n",
       "      <td>1844.00</td>\n",
       "      <td>9.0</td>\n",
       "      <td>1</td>\n",
       "      <td>7</td>\n",
       "      <td>0</td>\n",
       "      <td>1</td>\n",
       "      <td>0</td>\n",
       "    </tr>\n",
       "  </tbody>\n",
       "</table>\n",
       "</div>"
      ],
      "text/plain": [
       "   enrolldt    price  downpmt  monthdue  pmttype  use  age  gender  default\n",
       "0  19970101  2178.85   250.00       6.0        4    1    0       2        0\n",
       "1  19970101  1543.65  1543.65       6.0        1    0    0       2        0\n",
       "2  19970101  1107.67   125.00       5.0        1    0    0       2        0\n",
       "3  19970102   950.44   237.61       9.0        5    0    0       1        0\n",
       "4  19970103  1436.00   250.00       9.0        3    0    0       2        0\n",
       "5  19970104  1248.00   150.00      12.0        1    0    0       1        0\n",
       "6  19970105   249.00   249.00       8.0        1    0    0       2        0\n",
       "7  19970105   909.79   350.00      13.0        5    1    0       2        0\n",
       "8  19970106  1677.00   125.00      10.0        1    0    0       2        1\n",
       "9  19970106  1844.00  1844.00       9.0        1    7    0       1        0"
      ]
     },
     "execution_count": 4,
     "metadata": {},
     "output_type": "execute_result"
    }
   ],
   "source": [
    "churn_data.head(10)"
   ]
  },
  {
   "cell_type": "code",
   "execution_count": 5,
   "metadata": {},
   "outputs": [
    {
     "data": {
      "text/plain": [
       "(24843, 9)"
      ]
     },
     "execution_count": 5,
     "metadata": {},
     "output_type": "execute_result"
    }
   ],
   "source": [
    "# type(churn_data)\n",
    "churn_data.shape"
   ]
  },
  {
   "cell_type": "code",
   "execution_count": 6,
   "metadata": {},
   "outputs": [
    {
     "data": {
      "text/html": [
       "<div>\n",
       "<style scoped>\n",
       "    .dataframe tbody tr th:only-of-type {\n",
       "        vertical-align: middle;\n",
       "    }\n",
       "\n",
       "    .dataframe tbody tr th {\n",
       "        vertical-align: top;\n",
       "    }\n",
       "\n",
       "    .dataframe thead th {\n",
       "        text-align: right;\n",
       "    }\n",
       "</style>\n",
       "<table border=\"1\" class=\"dataframe\">\n",
       "  <thead>\n",
       "    <tr style=\"text-align: right;\">\n",
       "      <th></th>\n",
       "      <th>price</th>\n",
       "      <th>downpmt</th>\n",
       "      <th>age</th>\n",
       "      <th>monthdue</th>\n",
       "    </tr>\n",
       "  </thead>\n",
       "  <tbody>\n",
       "    <tr>\n",
       "      <th>count</th>\n",
       "      <td>24843.000000</td>\n",
       "      <td>24843.000000</td>\n",
       "      <td>24843.000000</td>\n",
       "      <td>24843.000000</td>\n",
       "    </tr>\n",
       "    <tr>\n",
       "      <th>mean</th>\n",
       "      <td>1003.658899</td>\n",
       "      <td>199.824535</td>\n",
       "      <td>29.203317</td>\n",
       "      <td>8.287290</td>\n",
       "    </tr>\n",
       "    <tr>\n",
       "      <th>std</th>\n",
       "      <td>439.224768</td>\n",
       "      <td>335.437237</td>\n",
       "      <td>13.277721</td>\n",
       "      <td>7.108381</td>\n",
       "    </tr>\n",
       "    <tr>\n",
       "      <th>min</th>\n",
       "      <td>0.000000</td>\n",
       "      <td>0.000000</td>\n",
       "      <td>0.000000</td>\n",
       "      <td>0.000000</td>\n",
       "    </tr>\n",
       "    <tr>\n",
       "      <th>25%</th>\n",
       "      <td>699.000000</td>\n",
       "      <td>49.000000</td>\n",
       "      <td>22.000000</td>\n",
       "      <td>5.500000</td>\n",
       "    </tr>\n",
       "    <tr>\n",
       "      <th>50%</th>\n",
       "      <td>999.000000</td>\n",
       "      <td>100.000000</td>\n",
       "      <td>28.000000</td>\n",
       "      <td>6.000000</td>\n",
       "    </tr>\n",
       "    <tr>\n",
       "      <th>75%</th>\n",
       "      <td>1249.000000</td>\n",
       "      <td>175.000000</td>\n",
       "      <td>36.000000</td>\n",
       "      <td>9.000000</td>\n",
       "    </tr>\n",
       "    <tr>\n",
       "      <th>max</th>\n",
       "      <td>9371.250000</td>\n",
       "      <td>9371.250000</td>\n",
       "      <td>99.000000</td>\n",
       "      <td>120.000000</td>\n",
       "    </tr>\n",
       "  </tbody>\n",
       "</table>\n",
       "</div>"
      ],
      "text/plain": [
       "              price       downpmt           age      monthdue\n",
       "count  24843.000000  24843.000000  24843.000000  24843.000000\n",
       "mean    1003.658899    199.824535     29.203317      8.287290\n",
       "std      439.224768    335.437237     13.277721      7.108381\n",
       "min        0.000000      0.000000      0.000000      0.000000\n",
       "25%      699.000000     49.000000     22.000000      5.500000\n",
       "50%      999.000000    100.000000     28.000000      6.000000\n",
       "75%     1249.000000    175.000000     36.000000      9.000000\n",
       "max     9371.250000   9371.250000     99.000000    120.000000"
      ]
     },
     "execution_count": 6,
     "metadata": {},
     "output_type": "execute_result"
    }
   ],
   "source": [
    "## subset numerical cols - statistics of numerical features\n",
    "## good way to represent numerical data\n",
    "num_cols = ['price', 'downpmt', 'age', 'monthdue']\n",
    "churn_data[num_cols].describe()"
   ]
  },
  {
   "cell_type": "code",
   "execution_count": 7,
   "metadata": {},
   "outputs": [],
   "source": [
    "#Catgeorical - Statistics\n",
    "#enrolldt\n",
    "#pmttype\n",
    "#use\n",
    "#gender\n",
    "#default"
   ]
  },
  {
   "cell_type": "code",
   "execution_count": 8,
   "metadata": {},
   "outputs": [
    {
     "data": {
      "text/plain": [
       "0    9919\n",
       "1    5776\n",
       "6    2462\n",
       "3    2385\n",
       "4    1483\n",
       "5    1125\n",
       "7     792\n",
       "2     618\n",
       "8     283\n",
       "Name: use, dtype: int64"
      ]
     },
     "execution_count": 8,
     "metadata": {},
     "output_type": "execute_result"
    }
   ],
   "source": [
    "# frequency \n",
    "churn_data['use'].value_counts()"
   ]
  },
  {
   "cell_type": "code",
   "execution_count": 9,
   "metadata": {},
   "outputs": [
    {
     "data": {
      "text/plain": [
       "enrolldt    0\n",
       "price       0\n",
       "downpmt     0\n",
       "monthdue    0\n",
       "pmttype     0\n",
       "use         0\n",
       "age         0\n",
       "gender      0\n",
       "default     0\n",
       "dtype: int64"
      ]
     },
     "execution_count": 9,
     "metadata": {},
     "output_type": "execute_result"
    }
   ],
   "source": [
    "## check any missing value or not\n",
    "churn_data.isnull().sum(axis=0)  # axis=0\n",
    "# np.nan\n",
    "#isnull doesn't test anything other than np.nan\n",
    "# ''\n",
    "# \"\"\n",
    "# \"np.nan\"\n",
    "# \"nan\""
   ]
  },
  {
   "cell_type": "code",
   "execution_count": 10,
   "metadata": {},
   "outputs": [
    {
     "data": {
      "text/plain": [
       "enrolldt      int64\n",
       "price       float64\n",
       "downpmt     float64\n",
       "monthdue    float64\n",
       "pmttype       int64\n",
       "use           int64\n",
       "age           int64\n",
       "gender        int64\n",
       "default       int64\n",
       "dtype: object"
      ]
     },
     "execution_count": 10,
     "metadata": {},
     "output_type": "execute_result"
    }
   ],
   "source": [
    "# Print types of columns\n",
    "churn_data.dtypes"
   ]
  },
  {
   "cell_type": "code",
   "execution_count": 11,
   "metadata": {},
   "outputs": [
    {
     "data": {
      "text/plain": [
       "count    24843.000000\n",
       "mean        29.203317\n",
       "std         13.277721\n",
       "min          0.000000\n",
       "25%         22.000000\n",
       "50%         28.000000\n",
       "75%         36.000000\n",
       "max         99.000000\n",
       "Name: age, dtype: float64"
      ]
     },
     "execution_count": 11,
     "metadata": {},
     "output_type": "execute_result"
    }
   ],
   "source": [
    "# clean age column\n",
    "churn_data['age'].describe()"
   ]
  },
  {
   "cell_type": "markdown",
   "metadata": {},
   "source": [
    "## Visualization"
   ]
  },
  {
   "cell_type": "code",
   "execution_count": 12,
   "metadata": {},
   "outputs": [],
   "source": [
    "# Plotting distributions\n",
    "# This allows to see the distribution of numeric data and compare boolean variables\n",
    "import matplotlib.pyplot as plt\n",
    "# import seaborn\n",
    "# import bokeh\n",
    "# import plotly, plotlyexpress\n",
    "fig = plt.figure(figsize = (15, 10))\n",
    "ax  = fig.gca()\n",
    "churn_data.hist(ax = ax, color = 'maroon')\n",
    "pass # Removes the text output"
   ]
  },
  {
   "cell_type": "code",
   "execution_count": 13,
   "metadata": {},
   "outputs": [],
   "source": [
    "# churn_data.downpmt"
   ]
  },
  {
   "cell_type": "code",
   "execution_count": 14,
   "metadata": {},
   "outputs": [
    {
     "data": {
      "image/png": "[encoded data removed]",
      "text/plain": [
       "<Figure size 432x288 with 1 Axes>"
      ]
     },
     "metadata": {
      "needs_background": "light"
     },
     "output_type": "display_data"
    }
   ],
   "source": [
    "## plot single column\n",
    "churn_data.downpmt.hist(color = 'maroon', bins = 50)\n",
    "plt.title('Down payment distribution')\n",
    "pass \n",
    "# As you can see, the distribution does not look very normal too"
   ]
  },
  {
   "cell_type": "code",
   "execution_count": 15,
   "metadata": {},
   "outputs": [],
   "source": [
    "# check correlation\n",
    "# select only numerical variables\n",
    "num_cols = ['price', 'downpmt',  'age']\n",
    "churn_num = churn_data[num_cols]\n",
    "cor = churn_num.corr() # by deafault - pearson"
   ]
  },
  {
   "cell_type": "code",
   "execution_count": 16,
   "metadata": {},
   "outputs": [
    {
     "data": {
      "text/html": [
       "<div>\n",
       "<style scoped>\n",
       "    .dataframe tbody tr th:only-of-type {\n",
       "        vertical-align: middle;\n",
       "    }\n",
       "\n",
       "    .dataframe tbody tr th {\n",
       "        vertical-align: top;\n",
       "    }\n",
       "\n",
       "    .dataframe thead th {\n",
       "        text-align: right;\n",
       "    }\n",
       "</style>\n",
       "<table border=\"1\" class=\"dataframe\">\n",
       "  <thead>\n",
       "    <tr style=\"text-align: right;\">\n",
       "      <th></th>\n",
       "      <th>price</th>\n",
       "      <th>downpmt</th>\n",
       "      <th>age</th>\n",
       "    </tr>\n",
       "  </thead>\n",
       "  <tbody>\n",
       "    <tr>\n",
       "      <th>price</th>\n",
       "      <td>1.000000</td>\n",
       "      <td>0.277764</td>\n",
       "      <td>-0.097624</td>\n",
       "    </tr>\n",
       "    <tr>\n",
       "      <th>downpmt</th>\n",
       "      <td>0.277764</td>\n",
       "      <td>1.000000</td>\n",
       "      <td>0.000483</td>\n",
       "    </tr>\n",
       "    <tr>\n",
       "      <th>age</th>\n",
       "      <td>-0.097624</td>\n",
       "      <td>0.000483</td>\n",
       "      <td>1.000000</td>\n",
       "    </tr>\n",
       "  </tbody>\n",
       "</table>\n",
       "</div>"
      ],
      "text/plain": [
       "            price   downpmt       age\n",
       "price    1.000000  0.277764 -0.097624\n",
       "downpmt  0.277764  1.000000  0.000483\n",
       "age     -0.097624  0.000483  1.000000"
      ]
     },
     "execution_count": 16,
     "metadata": {},
     "output_type": "execute_result"
    }
   ],
   "source": [
    "cor"
   ]
  },
  {
   "cell_type": "markdown",
   "metadata": {},
   "source": [
    "## Data Preprocessing"
   ]
  },
  {
   "cell_type": "code",
   "execution_count": 17,
   "metadata": {},
   "outputs": [],
   "source": [
    "# churn_data = churn_data[churn_data['age']>0]"
   ]
  },
  {
   "cell_type": "code",
   "execution_count": 18,
   "metadata": {},
   "outputs": [
    {
     "data": {
      "text/plain": [
       "(22582, 9)"
      ]
     },
     "execution_count": 18,
     "metadata": {},
     "output_type": "execute_result"
    }
   ],
   "source": [
    "# Domain knowledge - Eliminate customers above 17 and 79\n",
    "churn_data = churn_data[churn_data['age'].between(17, 79)]\n",
    "\n",
    "# Dimensions \n",
    "churn_data.shape\n",
    "# As a result we removed about 2000 rows"
   ]
  },
  {
   "cell_type": "code",
   "execution_count": 19,
   "metadata": {},
   "outputs": [],
   "source": [
    "# payment_type = [a1, a2, a3, a4] = drop_first= true = \n",
    "# pmttype_a2, pmttype_a3, pmttype_a4\n",
    "# gender [1,2] gender_1 = N-1 catgeories"
   ]
  },
  {
   "cell_type": "code",
   "execution_count": 20,
   "metadata": {},
   "outputs": [
    {
     "data": {
      "text/html": [
       "<div>\n",
       "<style scoped>\n",
       "    .dataframe tbody tr th:only-of-type {\n",
       "        vertical-align: middle;\n",
       "    }\n",
       "\n",
       "    .dataframe tbody tr th {\n",
       "        vertical-align: top;\n",
       "    }\n",
       "\n",
       "    .dataframe thead th {\n",
       "        text-align: right;\n",
       "    }\n",
       "</style>\n",
       "<table border=\"1\" class=\"dataframe\">\n",
       "  <thead>\n",
       "    <tr style=\"text-align: right;\">\n",
       "      <th></th>\n",
       "      <th>enrolldt</th>\n",
       "      <th>price</th>\n",
       "      <th>downpmt</th>\n",
       "      <th>monthdue</th>\n",
       "      <th>age</th>\n",
       "      <th>gender</th>\n",
       "      <th>default</th>\n",
       "      <th>pmttype_3</th>\n",
       "      <th>pmttype_4</th>\n",
       "      <th>pmttype_5</th>\n",
       "      <th>use_1</th>\n",
       "      <th>use_2</th>\n",
       "      <th>use_3</th>\n",
       "      <th>use_4</th>\n",
       "      <th>use_5</th>\n",
       "      <th>use_6</th>\n",
       "      <th>use_7</th>\n",
       "      <th>use_8</th>\n",
       "    </tr>\n",
       "  </thead>\n",
       "  <tbody>\n",
       "    <tr>\n",
       "      <th>2241</th>\n",
       "      <td>19970106</td>\n",
       "      <td>2175.00</td>\n",
       "      <td>400.00</td>\n",
       "      <td>5.50</td>\n",
       "      <td>17</td>\n",
       "      <td>2</td>\n",
       "      <td>0</td>\n",
       "      <td>1</td>\n",
       "      <td>0</td>\n",
       "      <td>0</td>\n",
       "      <td>0</td>\n",
       "      <td>0</td>\n",
       "      <td>0</td>\n",
       "      <td>0</td>\n",
       "      <td>0</td>\n",
       "      <td>0</td>\n",
       "      <td>0</td>\n",
       "      <td>0</td>\n",
       "    </tr>\n",
       "    <tr>\n",
       "      <th>2242</th>\n",
       "      <td>19970119</td>\n",
       "      <td>551.05</td>\n",
       "      <td>459.03</td>\n",
       "      <td>28.89</td>\n",
       "      <td>17</td>\n",
       "      <td>2</td>\n",
       "      <td>0</td>\n",
       "      <td>0</td>\n",
       "      <td>0</td>\n",
       "      <td>0</td>\n",
       "      <td>0</td>\n",
       "      <td>0</td>\n",
       "      <td>0</td>\n",
       "      <td>0</td>\n",
       "      <td>0</td>\n",
       "      <td>1</td>\n",
       "      <td>0</td>\n",
       "      <td>0</td>\n",
       "    </tr>\n",
       "    <tr>\n",
       "      <th>2243</th>\n",
       "      <td>19970127</td>\n",
       "      <td>1838.19</td>\n",
       "      <td>100.00</td>\n",
       "      <td>5.86</td>\n",
       "      <td>17</td>\n",
       "      <td>2</td>\n",
       "      <td>1</td>\n",
       "      <td>0</td>\n",
       "      <td>0</td>\n",
       "      <td>0</td>\n",
       "      <td>0</td>\n",
       "      <td>0</td>\n",
       "      <td>0</td>\n",
       "      <td>0</td>\n",
       "      <td>0</td>\n",
       "      <td>0</td>\n",
       "      <td>0</td>\n",
       "      <td>0</td>\n",
       "    </tr>\n",
       "    <tr>\n",
       "      <th>2244</th>\n",
       "      <td>19970130</td>\n",
       "      <td>2175.00</td>\n",
       "      <td>2175.00</td>\n",
       "      <td>6.00</td>\n",
       "      <td>17</td>\n",
       "      <td>1</td>\n",
       "      <td>0</td>\n",
       "      <td>0</td>\n",
       "      <td>0</td>\n",
       "      <td>0</td>\n",
       "      <td>0</td>\n",
       "      <td>0</td>\n",
       "      <td>0</td>\n",
       "      <td>0</td>\n",
       "      <td>0</td>\n",
       "      <td>0</td>\n",
       "      <td>0</td>\n",
       "      <td>0</td>\n",
       "    </tr>\n",
       "    <tr>\n",
       "      <th>2245</th>\n",
       "      <td>19970208</td>\n",
       "      <td>1464.44</td>\n",
       "      <td>1464.44</td>\n",
       "      <td>11.00</td>\n",
       "      <td>17</td>\n",
       "      <td>1</td>\n",
       "      <td>0</td>\n",
       "      <td>0</td>\n",
       "      <td>0</td>\n",
       "      <td>0</td>\n",
       "      <td>0</td>\n",
       "      <td>0</td>\n",
       "      <td>0</td>\n",
       "      <td>0</td>\n",
       "      <td>0</td>\n",
       "      <td>0</td>\n",
       "      <td>0</td>\n",
       "      <td>0</td>\n",
       "    </tr>\n",
       "  </tbody>\n",
       "</table>\n",
       "</div>"
      ],
      "text/plain": [
       "      enrolldt    price  downpmt  monthdue  age  gender  default  pmttype_3  \\\n",
       "2241  19970106  2175.00   400.00      5.50   17       2        0          1   \n",
       "2242  19970119   551.05   459.03     28.89   17       2        0          0   \n",
       "2243  19970127  1838.19   100.00      5.86   17       2        1          0   \n",
       "2244  19970130  2175.00  2175.00      6.00   17       1        0          0   \n",
       "2245  19970208  1464.44  1464.44     11.00   17       1        0          0   \n",
       "\n",
       "      pmttype_4  pmttype_5  use_1  use_2  use_3  use_4  use_5  use_6  use_7  \\\n",
       "2241          0          0      0      0      0      0      0      0      0   \n",
       "2242          0          0      0      0      0      0      0      1      0   \n",
       "2243          0          0      0      0      0      0      0      0      0   \n",
       "2244          0          0      0      0      0      0      0      0      0   \n",
       "2245          0          0      0      0      0      0      0      0      0   \n",
       "\n",
       "      use_8  \n",
       "2241      0  \n",
       "2242      0  \n",
       "2243      0  \n",
       "2244      0  \n",
       "2245      0  "
      ]
     },
     "execution_count": 20,
     "metadata": {},
     "output_type": "execute_result"
    }
   ],
   "source": [
    "# Create dummy variables\n",
    "churn_data = pd.get_dummies(churn_data, columns = ['pmttype', 'use'], drop_first = True, prefix = ['pmttype', 'use'])\n",
    "\n",
    "# Print\n",
    "churn_data.head()"
   ]
  },
  {
   "cell_type": "code",
   "execution_count": 21,
   "metadata": {},
   "outputs": [
    {
     "data": {
      "text/html": [
       "<div>\n",
       "<style scoped>\n",
       "    .dataframe tbody tr th:only-of-type {\n",
       "        vertical-align: middle;\n",
       "    }\n",
       "\n",
       "    .dataframe tbody tr th {\n",
       "        vertical-align: top;\n",
       "    }\n",
       "\n",
       "    .dataframe thead th {\n",
       "        text-align: right;\n",
       "    }\n",
       "</style>\n",
       "<table border=\"1\" class=\"dataframe\">\n",
       "  <thead>\n",
       "    <tr style=\"text-align: right;\">\n",
       "      <th></th>\n",
       "      <th>enrolldt</th>\n",
       "      <th>price</th>\n",
       "      <th>downpmt</th>\n",
       "      <th>monthdue</th>\n",
       "      <th>age</th>\n",
       "      <th>gender</th>\n",
       "      <th>default</th>\n",
       "      <th>pmttype_3</th>\n",
       "      <th>pmttype_4</th>\n",
       "      <th>pmttype_5</th>\n",
       "      <th>use_1</th>\n",
       "      <th>use_2</th>\n",
       "      <th>use_3</th>\n",
       "      <th>use_4</th>\n",
       "      <th>use_5</th>\n",
       "      <th>use_6</th>\n",
       "      <th>use_7</th>\n",
       "      <th>use_8</th>\n",
       "      <th>downpmt_percent</th>\n",
       "    </tr>\n",
       "  </thead>\n",
       "  <tbody>\n",
       "    <tr>\n",
       "      <th>24818</th>\n",
       "      <td>19980824</td>\n",
       "      <td>1023.00</td>\n",
       "      <td>175.00</td>\n",
       "      <td>7.0</td>\n",
       "      <td>79</td>\n",
       "      <td>1</td>\n",
       "      <td>0</td>\n",
       "      <td>0</td>\n",
       "      <td>0</td>\n",
       "      <td>1</td>\n",
       "      <td>1</td>\n",
       "      <td>0</td>\n",
       "      <td>0</td>\n",
       "      <td>0</td>\n",
       "      <td>0</td>\n",
       "      <td>0</td>\n",
       "      <td>0</td>\n",
       "      <td>0</td>\n",
       "      <td>0.17</td>\n",
       "    </tr>\n",
       "    <tr>\n",
       "      <th>24819</th>\n",
       "      <td>19980827</td>\n",
       "      <td>774.00</td>\n",
       "      <td>50.00</td>\n",
       "      <td>7.0</td>\n",
       "      <td>79</td>\n",
       "      <td>1</td>\n",
       "      <td>0</td>\n",
       "      <td>0</td>\n",
       "      <td>0</td>\n",
       "      <td>1</td>\n",
       "      <td>0</td>\n",
       "      <td>0</td>\n",
       "      <td>0</td>\n",
       "      <td>0</td>\n",
       "      <td>0</td>\n",
       "      <td>0</td>\n",
       "      <td>0</td>\n",
       "      <td>0</td>\n",
       "      <td>0.06</td>\n",
       "    </tr>\n",
       "    <tr>\n",
       "      <th>24820</th>\n",
       "      <td>19980903</td>\n",
       "      <td>1198.00</td>\n",
       "      <td>100.00</td>\n",
       "      <td>23.0</td>\n",
       "      <td>79</td>\n",
       "      <td>2</td>\n",
       "      <td>0</td>\n",
       "      <td>0</td>\n",
       "      <td>1</td>\n",
       "      <td>0</td>\n",
       "      <td>1</td>\n",
       "      <td>0</td>\n",
       "      <td>0</td>\n",
       "      <td>0</td>\n",
       "      <td>0</td>\n",
       "      <td>0</td>\n",
       "      <td>0</td>\n",
       "      <td>0</td>\n",
       "      <td>0.08</td>\n",
       "    </tr>\n",
       "    <tr>\n",
       "      <th>24821</th>\n",
       "      <td>19981009</td>\n",
       "      <td>651.63</td>\n",
       "      <td>651.63</td>\n",
       "      <td>34.0</td>\n",
       "      <td>79</td>\n",
       "      <td>1</td>\n",
       "      <td>0</td>\n",
       "      <td>1</td>\n",
       "      <td>0</td>\n",
       "      <td>0</td>\n",
       "      <td>0</td>\n",
       "      <td>0</td>\n",
       "      <td>0</td>\n",
       "      <td>0</td>\n",
       "      <td>0</td>\n",
       "      <td>0</td>\n",
       "      <td>0</td>\n",
       "      <td>0</td>\n",
       "      <td>1.00</td>\n",
       "    </tr>\n",
       "    <tr>\n",
       "      <th>24822</th>\n",
       "      <td>19981106</td>\n",
       "      <td>1048.00</td>\n",
       "      <td>1048.00</td>\n",
       "      <td>5.0</td>\n",
       "      <td>79</td>\n",
       "      <td>1</td>\n",
       "      <td>0</td>\n",
       "      <td>1</td>\n",
       "      <td>0</td>\n",
       "      <td>0</td>\n",
       "      <td>0</td>\n",
       "      <td>0</td>\n",
       "      <td>1</td>\n",
       "      <td>0</td>\n",
       "      <td>0</td>\n",
       "      <td>0</td>\n",
       "      <td>0</td>\n",
       "      <td>0</td>\n",
       "      <td>1.00</td>\n",
       "    </tr>\n",
       "  </tbody>\n",
       "</table>\n",
       "</div>"
      ],
      "text/plain": [
       "       enrolldt    price  downpmt  monthdue  age  gender  default  pmttype_3  \\\n",
       "24818  19980824  1023.00   175.00       7.0   79       1        0          0   \n",
       "24819  19980827   774.00    50.00       7.0   79       1        0          0   \n",
       "24820  19980903  1198.00   100.00      23.0   79       2        0          0   \n",
       "24821  19981009   651.63   651.63      34.0   79       1        0          1   \n",
       "24822  19981106  1048.00  1048.00       5.0   79       1        0          1   \n",
       "\n",
       "       pmttype_4  pmttype_5  use_1  use_2  use_3  use_4  use_5  use_6  use_7  \\\n",
       "24818          0          1      1      0      0      0      0      0      0   \n",
       "24819          0          1      0      0      0      0      0      0      0   \n",
       "24820          1          0      1      0      0      0      0      0      0   \n",
       "24821          0          0      0      0      0      0      0      0      0   \n",
       "24822          0          0      0      0      1      0      0      0      0   \n",
       "\n",
       "       use_8  downpmt_percent  \n",
       "24818      0             0.17  \n",
       "24819      0             0.06  \n",
       "24820      0             0.08  \n",
       "24821      0             1.00  \n",
       "24822      0             1.00  "
      ]
     },
     "execution_count": 21,
     "metadata": {},
     "output_type": "execute_result"
    }
   ],
   "source": [
    "# Create % down payment as a new column\n",
    "\n",
    "# This column might be helpful for our future modelling.\n",
    "# Calculate percent\n",
    "churn_data['downpmt_percent'] = churn_data.downpmt/churn_data.price\n",
    "\n",
    "# Round percent column\n",
    "churn_data['downpmt_percent'] = churn_data.downpmt_percent.round(2)\n",
    "\n",
    "# Print\n",
    "churn_data.tail()"
   ]
  },
  {
   "cell_type": "code",
   "execution_count": 22,
   "metadata": {},
   "outputs": [],
   "source": [
    "# df = df.drop([A, B, C], axis=1)\n",
    "# df.drop([A, B, C], axis=1, inplace=True)"
   ]
  },
  {
   "cell_type": "code",
   "execution_count": 23,
   "metadata": {},
   "outputs": [],
   "source": [
    "#Drop a column\n",
    "# Drop the enrolldt varibale\n",
    "churn_data= churn_data.drop(['enrolldt'], axis = 1)"
   ]
  },
  {
   "cell_type": "code",
   "execution_count": 24,
   "metadata": {},
   "outputs": [
    {
     "data": {
      "text/plain": [
       "price               0\n",
       "downpmt             0\n",
       "monthdue            0\n",
       "age                 0\n",
       "gender              0\n",
       "default             0\n",
       "pmttype_3           0\n",
       "pmttype_4           0\n",
       "pmttype_5           0\n",
       "use_1               0\n",
       "use_2               0\n",
       "use_3               0\n",
       "use_4               0\n",
       "use_5               0\n",
       "use_6               0\n",
       "use_7               0\n",
       "use_8               0\n",
       "downpmt_percent    24\n",
       "dtype: int64"
      ]
     },
     "execution_count": 24,
     "metadata": {},
     "output_type": "execute_result"
    }
   ],
   "source": [
    "churn_data.isnull().sum(axis=0)"
   ]
  },
  {
   "cell_type": "code",
   "execution_count": 26,
   "metadata": {},
   "outputs": [],
   "source": [
    "# imputation method 1\n",
    "avg = churn_data['downpmt_percent'].mean()\n",
    "churn_data = churn_data.fillna(avg, axis=1)\n",
    "\n",
    "#imputation method 2\n",
    "# churn_data.fillna(avg, axis=1, inplace=True)\n",
    "\n",
    "## imputation method 3\n",
    "# df=df.fillna({'a':0,'b':0})"
   ]
  },
  {
   "cell_type": "code",
   "execution_count": 27,
   "metadata": {},
   "outputs": [],
   "source": [
    "# remove correlated features - age, price 0.90 - price"
   ]
  },
  {
   "cell_type": "markdown",
   "metadata": {},
   "source": [
    "## Model Building - Logistic Regession"
   ]
  },
  {
   "cell_type": "code",
   "execution_count": 28,
   "metadata": {},
   "outputs": [],
   "source": [
    "# Split data, creating two dataframes - one with all features (X) and another one - with just default variable (y)\n",
    "y = churn_data['default']\n",
    "X = churn_data.drop('default', axis = 1)\n",
    "\n",
    "# Print y to double check it\n",
    "# y.head(5)\n",
    "# X.head(5)"
   ]
  },
  {
   "cell_type": "code",
   "execution_count": 29,
   "metadata": {},
   "outputs": [
    {
     "data": {
      "text/html": [
       "<div>\n",
       "<style scoped>\n",
       "    .dataframe tbody tr th:only-of-type {\n",
       "        vertical-align: middle;\n",
       "    }\n",
       "\n",
       "    .dataframe tbody tr th {\n",
       "        vertical-align: top;\n",
       "    }\n",
       "\n",
       "    .dataframe thead th {\n",
       "        text-align: right;\n",
       "    }\n",
       "</style>\n",
       "<table border=\"1\" class=\"dataframe\">\n",
       "  <thead>\n",
       "    <tr style=\"text-align: right;\">\n",
       "      <th></th>\n",
       "      <th>price</th>\n",
       "      <th>downpmt</th>\n",
       "      <th>monthdue</th>\n",
       "      <th>age</th>\n",
       "      <th>gender</th>\n",
       "      <th>pmttype_3</th>\n",
       "      <th>pmttype_4</th>\n",
       "      <th>pmttype_5</th>\n",
       "      <th>use_1</th>\n",
       "      <th>use_2</th>\n",
       "      <th>use_3</th>\n",
       "      <th>use_4</th>\n",
       "      <th>use_5</th>\n",
       "      <th>use_6</th>\n",
       "      <th>use_7</th>\n",
       "      <th>use_8</th>\n",
       "      <th>downpmt_percent</th>\n",
       "    </tr>\n",
       "  </thead>\n",
       "  <tbody>\n",
       "    <tr>\n",
       "      <th>2241</th>\n",
       "      <td>2175.00</td>\n",
       "      <td>400.00</td>\n",
       "      <td>5.50</td>\n",
       "      <td>17</td>\n",
       "      <td>2</td>\n",
       "      <td>1</td>\n",
       "      <td>0</td>\n",
       "      <td>0</td>\n",
       "      <td>0</td>\n",
       "      <td>0</td>\n",
       "      <td>0</td>\n",
       "      <td>0</td>\n",
       "      <td>0</td>\n",
       "      <td>0</td>\n",
       "      <td>0</td>\n",
       "      <td>0</td>\n",
       "      <td>0.18</td>\n",
       "    </tr>\n",
       "    <tr>\n",
       "      <th>2242</th>\n",
       "      <td>551.05</td>\n",
       "      <td>459.03</td>\n",
       "      <td>28.89</td>\n",
       "      <td>17</td>\n",
       "      <td>2</td>\n",
       "      <td>0</td>\n",
       "      <td>0</td>\n",
       "      <td>0</td>\n",
       "      <td>0</td>\n",
       "      <td>0</td>\n",
       "      <td>0</td>\n",
       "      <td>0</td>\n",
       "      <td>0</td>\n",
       "      <td>1</td>\n",
       "      <td>0</td>\n",
       "      <td>0</td>\n",
       "      <td>0.83</td>\n",
       "    </tr>\n",
       "    <tr>\n",
       "      <th>2243</th>\n",
       "      <td>1838.19</td>\n",
       "      <td>100.00</td>\n",
       "      <td>5.86</td>\n",
       "      <td>17</td>\n",
       "      <td>2</td>\n",
       "      <td>0</td>\n",
       "      <td>0</td>\n",
       "      <td>0</td>\n",
       "      <td>0</td>\n",
       "      <td>0</td>\n",
       "      <td>0</td>\n",
       "      <td>0</td>\n",
       "      <td>0</td>\n",
       "      <td>0</td>\n",
       "      <td>0</td>\n",
       "      <td>0</td>\n",
       "      <td>0.05</td>\n",
       "    </tr>\n",
       "    <tr>\n",
       "      <th>2244</th>\n",
       "      <td>2175.00</td>\n",
       "      <td>2175.00</td>\n",
       "      <td>6.00</td>\n",
       "      <td>17</td>\n",
       "      <td>1</td>\n",
       "      <td>0</td>\n",
       "      <td>0</td>\n",
       "      <td>0</td>\n",
       "      <td>0</td>\n",
       "      <td>0</td>\n",
       "      <td>0</td>\n",
       "      <td>0</td>\n",
       "      <td>0</td>\n",
       "      <td>0</td>\n",
       "      <td>0</td>\n",
       "      <td>0</td>\n",
       "      <td>1.00</td>\n",
       "    </tr>\n",
       "    <tr>\n",
       "      <th>2245</th>\n",
       "      <td>1464.44</td>\n",
       "      <td>1464.44</td>\n",
       "      <td>11.00</td>\n",
       "      <td>17</td>\n",
       "      <td>1</td>\n",
       "      <td>0</td>\n",
       "      <td>0</td>\n",
       "      <td>0</td>\n",
       "      <td>0</td>\n",
       "      <td>0</td>\n",
       "      <td>0</td>\n",
       "      <td>0</td>\n",
       "      <td>0</td>\n",
       "      <td>0</td>\n",
       "      <td>0</td>\n",
       "      <td>0</td>\n",
       "      <td>1.00</td>\n",
       "    </tr>\n",
       "  </tbody>\n",
       "</table>\n",
       "</div>"
      ],
      "text/plain": [
       "        price  downpmt  monthdue  age  gender  pmttype_3  pmttype_4  \\\n",
       "2241  2175.00   400.00      5.50   17       2          1          0   \n",
       "2242   551.05   459.03     28.89   17       2          0          0   \n",
       "2243  1838.19   100.00      5.86   17       2          0          0   \n",
       "2244  2175.00  2175.00      6.00   17       1          0          0   \n",
       "2245  1464.44  1464.44     11.00   17       1          0          0   \n",
       "\n",
       "      pmttype_5  use_1  use_2  use_3  use_4  use_5  use_6  use_7  use_8  \\\n",
       "2241          0      0      0      0      0      0      0      0      0   \n",
       "2242          0      0      0      0      0      0      1      0      0   \n",
       "2243          0      0      0      0      0      0      0      0      0   \n",
       "2244          0      0      0      0      0      0      0      0      0   \n",
       "2245          0      0      0      0      0      0      0      0      0   \n",
       "\n",
       "      downpmt_percent  \n",
       "2241             0.18  \n",
       "2242             0.83  \n",
       "2243             0.05  \n",
       "2244             1.00  \n",
       "2245             1.00  "
      ]
     },
     "execution_count": 29,
     "metadata": {},
     "output_type": "execute_result"
    }
   ],
   "source": [
    "X.head(5)"
   ]
  },
  {
   "cell_type": "code",
   "execution_count": 30,
   "metadata": {},
   "outputs": [],
   "source": [
    "# Split X and y into training and testing sets\n",
    "# 0.8 for training and 0.2 for testing one\n",
    "from sklearn.model_selection import train_test_split\n",
    "X_train, X_test, y_train, y_test = train_test_split(X, y, test_size = 0.2, random_state = 0, stratify= y) # stratify allows you same distribution of variable"
   ]
  },
  {
   "cell_type": "code",
   "execution_count": 34,
   "metadata": {},
   "outputs": [],
   "source": [
    "# y = default = 90 no-churn, 10 churn category\n",
    "# 90%, 10% - Dataset stratify\n",
    "# Train = 90%NC, 10%C\n",
    "# Test = 90%NC, 10%C"
   ]
  },
  {
   "cell_type": "code",
   "execution_count": 35,
   "metadata": {},
   "outputs": [],
   "source": [
    "# Create a model\n",
    "from sklearn.linear_model import LogisticRegression\n",
    "logreg = LogisticRegression()"
   ]
  },
  {
   "cell_type": "code",
   "execution_count": 36,
   "metadata": {},
   "outputs": [
    {
     "data": {
      "text/plain": [
       "LogisticRegression(C=1.0, class_weight=None, dual=False, fit_intercept=True,\n",
       "                   intercept_scaling=1, l1_ratio=None, max_iter=100,\n",
       "                   multi_class='auto', n_jobs=None, penalty='l2',\n",
       "                   random_state=None, solver='lbfgs', tol=0.0001, verbose=0,\n",
       "                   warm_start=False)"
      ]
     },
     "execution_count": 36,
     "metadata": {},
     "output_type": "execute_result"
    }
   ],
   "source": [
    "# Fit the model with data\n",
    "logreg.fit(X_train, y_train)"
   ]
  },
  {
   "cell_type": "code",
   "execution_count": 37,
   "metadata": {},
   "outputs": [],
   "source": [
    "# Predict\n",
    "y_pred = logreg.predict(X_test) # predict class"
   ]
  },
  {
   "cell_type": "code",
   "execution_count": 38,
   "metadata": {},
   "outputs": [],
   "source": [
    "# Prediction = [0, 1, 1, 0]\n",
    "# Actual =     [0, 1, 0, 0]\n",
    "\n",
    "# 3/4"
   ]
  },
  {
   "cell_type": "code",
   "execution_count": 39,
   "metadata": {},
   "outputs": [],
   "source": [
    "# logreg.predict_proba(X_test)"
   ]
  },
  {
   "cell_type": "code",
   "execution_count": 40,
   "metadata": {},
   "outputs": [
    {
     "data": {
      "text/plain": [
       "Counter({0: 4213, 1: 304})"
      ]
     },
     "execution_count": 40,
     "metadata": {},
     "output_type": "execute_result"
    }
   ],
   "source": [
    "#scaling the data - explore\n",
    "# scaler = StandardScaler()\n",
    "\n",
    "from collections import Counter\n",
    "Counter(y_pred)"
   ]
  },
  {
   "cell_type": "markdown",
   "metadata": {},
   "source": [
    "### 4.1. Confusion matrix\n",
    "\n",
    "    Let's start from a confusion matrix.\n",
    "\n",
    "    In this matrix we will have four elements:\n",
    "\n",
    "    true positives (TP): These are cases in which we predicted yes (1), and it was correct\n",
    "    true negatives (TN): We predicted no, and we don't have 0\n",
    "    false positives (FP): We predicted yes, but we were wrong and instead of 1 it is 0\n",
    "    false negatives (FN): We predicted no (0), but we were wrong again and the value is actually equal to 1."
   ]
  },
  {
   "cell_type": "code",
   "execution_count": 41,
   "metadata": {},
   "outputs": [
    {
     "data": {
      "text/plain": [
       "16794    0\n",
       "19729    0\n",
       "5097     0\n",
       "14595    0\n",
       "22887    0\n",
       "        ..\n",
       "3536     0\n",
       "8368     0\n",
       "3351     0\n",
       "11332    0\n",
       "20836    0\n",
       "Name: default, Length: 4517, dtype: int64"
      ]
     },
     "execution_count": 41,
     "metadata": {},
     "output_type": "execute_result"
    }
   ],
   "source": [
    "y_test #actual Y"
   ]
  },
  {
   "cell_type": "code",
   "execution_count": 42,
   "metadata": {},
   "outputs": [
    {
     "name": "stdout",
     "output_type": "stream",
     "text": [
      "The Confusion Matrix is \n",
      " \n",
      " [[3872  103]\n",
      " [ 341  201]]\n"
     ]
    }
   ],
   "source": [
    "from sklearn.metrics import confusion_matrix\n",
    "from sklearn.metrics import classification_report\n",
    "\n",
    "print(\"The Confusion Matrix is \\n \\n\", confusion_matrix(y_test, y_pred))"
   ]
  },
  {
   "cell_type": "code",
   "execution_count": 43,
   "metadata": {},
   "outputs": [],
   "source": [
    "# 230 = Churn correctly\n",
    "# 3840 = Non Churn correctly"
   ]
  },
  {
   "cell_type": "code",
   "execution_count": 44,
   "metadata": {},
   "outputs": [
    {
     "name": "stdout",
     "output_type": "stream",
     "text": [
      "The Classification table is \n",
      " \n",
      "               precision    recall  f1-score   support\n",
      "\n",
      "           0       0.92      0.97      0.95      3975\n",
      "           1       0.66      0.37      0.48       542\n",
      "\n",
      "    accuracy                           0.90      4517\n",
      "   macro avg       0.79      0.67      0.71      4517\n",
      "weighted avg       0.89      0.90      0.89      4517\n",
      "\n"
     ]
    }
   ],
   "source": [
    "print(\"The Classification table is \\n \\n\", classification_report(y_test, y_pred))"
   ]
  },
  {
   "cell_type": "code",
   "execution_count": 45,
   "metadata": {},
   "outputs": [],
   "source": [
    "# Create a ROC curve\n",
    "from sklearn import metrics\n",
    "y_pred_proba = logreg.predict_proba(X_test)[::, 1]\n",
    "fpr, tpr, _  = metrics.roc_curve(y_test,  y_pred_proba)"
   ]
  },
  {
   "cell_type": "code",
   "execution_count": 46,
   "metadata": {},
   "outputs": [
    {
     "data": {
      "image/png": "[encoded data removed]",
      "text/plain": [
       "<Figure size 432x288 with 1 Axes>"
      ]
     },
     "metadata": {
      "needs_background": "light"
     },
     "output_type": "display_data"
    }
   ],
   "source": [
    "auc = metrics.roc_auc_score(y_test, y_pred_proba)\n",
    "plt.plot(fpr, tpr, label = \"data 1, auc=\"+str(auc), color = 'maroon')\n",
    "plt.legend(loc = 4)\n",
    "plt.title('ROC curve')\n",
    "plt.show()"
   ]
  },
  {
   "cell_type": "markdown",
   "metadata": {},
   "source": [
    "### Gains Chart\n",
    "\n",
    "Gains Chart is a common technique used in direct marketing where we select a small set of people to get a large number of responders.\n",
    "\n",
    "Baseline: Expected positives without the model in place\n",
    "Model: Once we have the model in place and group the observations into bins as per their predicted probabilities we can get a lift/gain in predicition correctness."
   ]
  },
  {
   "cell_type": "code",
   "execution_count": 47,
   "metadata": {},
   "outputs": [],
   "source": [
    "# !pip install scikit-plot "
   ]
  },
  {
   "cell_type": "code",
   "execution_count": 48,
   "metadata": {},
   "outputs": [
    {
     "data": {
      "image/png": "[encoded data removed]",
      "text/plain": [
       "<Figure size 432x288 with 1 Axes>"
      ]
     },
     "metadata": {
      "needs_background": "light"
     },
     "output_type": "display_data"
    }
   ],
   "source": [
    "# Create a chart\n",
    "import scikitplot as skplt\n",
    "skplt.metrics.plot_cumulative_gain(y_test,logreg.predict_proba(X_test))\n",
    "plt.show()"
   ]
  },
  {
   "cell_type": "markdown",
   "metadata": {},
   "source": [
    "### Feature Selection"
   ]
  },
  {
   "cell_type": "code",
   "execution_count": 49,
   "metadata": {},
   "outputs": [
    {
     "name": "stdout",
     "output_type": "stream",
     "text": [
      "The most important features in the model are: \n",
      "\n"
     ]
    },
    {
     "data": {
      "text/html": [
       "<div>\n",
       "<style scoped>\n",
       "    .dataframe tbody tr th:only-of-type {\n",
       "        vertical-align: middle;\n",
       "    }\n",
       "\n",
       "    .dataframe tbody tr th {\n",
       "        vertical-align: top;\n",
       "    }\n",
       "\n",
       "    .dataframe thead th {\n",
       "        text-align: right;\n",
       "    }\n",
       "</style>\n",
       "<table border=\"1\" class=\"dataframe\">\n",
       "  <thead>\n",
       "    <tr style=\"text-align: right;\">\n",
       "      <th></th>\n",
       "      <th>feature_names</th>\n",
       "      <th>Beta</th>\n",
       "      <th>AbsBeta</th>\n",
       "    </tr>\n",
       "  </thead>\n",
       "  <tbody>\n",
       "    <tr>\n",
       "      <th>6</th>\n",
       "      <td>pmttype_4</td>\n",
       "      <td>-4.440822</td>\n",
       "      <td>4.440822</td>\n",
       "    </tr>\n",
       "    <tr>\n",
       "      <th>7</th>\n",
       "      <td>pmttype_5</td>\n",
       "      <td>-3.367205</td>\n",
       "      <td>3.367205</td>\n",
       "    </tr>\n",
       "    <tr>\n",
       "      <th>13</th>\n",
       "      <td>use_6</td>\n",
       "      <td>-1.913380</td>\n",
       "      <td>1.913380</td>\n",
       "    </tr>\n",
       "    <tr>\n",
       "      <th>10</th>\n",
       "      <td>use_3</td>\n",
       "      <td>-1.420255</td>\n",
       "      <td>1.420255</td>\n",
       "    </tr>\n",
       "    <tr>\n",
       "      <th>11</th>\n",
       "      <td>use_4</td>\n",
       "      <td>-1.145519</td>\n",
       "      <td>1.145519</td>\n",
       "    </tr>\n",
       "    <tr>\n",
       "      <th>5</th>\n",
       "      <td>pmttype_3</td>\n",
       "      <td>-0.974507</td>\n",
       "      <td>0.974507</td>\n",
       "    </tr>\n",
       "    <tr>\n",
       "      <th>12</th>\n",
       "      <td>use_5</td>\n",
       "      <td>-0.968574</td>\n",
       "      <td>0.968574</td>\n",
       "    </tr>\n",
       "    <tr>\n",
       "      <th>8</th>\n",
       "      <td>use_1</td>\n",
       "      <td>-0.739500</td>\n",
       "      <td>0.739500</td>\n",
       "    </tr>\n",
       "    <tr>\n",
       "      <th>14</th>\n",
       "      <td>use_7</td>\n",
       "      <td>-0.603143</td>\n",
       "      <td>0.603143</td>\n",
       "    </tr>\n",
       "    <tr>\n",
       "      <th>9</th>\n",
       "      <td>use_2</td>\n",
       "      <td>-0.389608</td>\n",
       "      <td>0.389608</td>\n",
       "    </tr>\n",
       "    <tr>\n",
       "      <th>15</th>\n",
       "      <td>use_8</td>\n",
       "      <td>-0.184371</td>\n",
       "      <td>0.184371</td>\n",
       "    </tr>\n",
       "    <tr>\n",
       "      <th>16</th>\n",
       "      <td>downpmt_percent</td>\n",
       "      <td>-0.107183</td>\n",
       "      <td>0.107183</td>\n",
       "    </tr>\n",
       "    <tr>\n",
       "      <th>4</th>\n",
       "      <td>gender</td>\n",
       "      <td>-0.053233</td>\n",
       "      <td>0.053233</td>\n",
       "    </tr>\n",
       "    <tr>\n",
       "      <th>3</th>\n",
       "      <td>age</td>\n",
       "      <td>-0.016167</td>\n",
       "      <td>0.016167</td>\n",
       "    </tr>\n",
       "    <tr>\n",
       "      <th>1</th>\n",
       "      <td>downpmt</td>\n",
       "      <td>-0.014299</td>\n",
       "      <td>0.014299</td>\n",
       "    </tr>\n",
       "    <tr>\n",
       "      <th>2</th>\n",
       "      <td>monthdue</td>\n",
       "      <td>-0.012566</td>\n",
       "      <td>0.012566</td>\n",
       "    </tr>\n",
       "    <tr>\n",
       "      <th>0</th>\n",
       "      <td>price</td>\n",
       "      <td>0.001833</td>\n",
       "      <td>0.001833</td>\n",
       "    </tr>\n",
       "  </tbody>\n",
       "</table>\n",
       "</div>"
      ],
      "text/plain": [
       "      feature_names      Beta   AbsBeta\n",
       "6         pmttype_4 -4.440822  4.440822\n",
       "7         pmttype_5 -3.367205  3.367205\n",
       "13            use_6 -1.913380  1.913380\n",
       "10            use_3 -1.420255  1.420255\n",
       "11            use_4 -1.145519  1.145519\n",
       "5         pmttype_3 -0.974507  0.974507\n",
       "12            use_5 -0.968574  0.968574\n",
       "8             use_1 -0.739500  0.739500\n",
       "14            use_7 -0.603143  0.603143\n",
       "9             use_2 -0.389608  0.389608\n",
       "15            use_8 -0.184371  0.184371\n",
       "16  downpmt_percent -0.107183  0.107183\n",
       "4            gender -0.053233  0.053233\n",
       "3               age -0.016167  0.016167\n",
       "1           downpmt -0.014299  0.014299\n",
       "2          monthdue -0.012566  0.012566\n",
       "0             price  0.001833  0.001833"
      ]
     },
     "execution_count": 49,
     "metadata": {},
     "output_type": "execute_result"
    }
   ],
   "source": [
    "# Getting the best coefficients\n",
    "feature_imp = logreg.coef_\n",
    "coef_table = pd.DataFrame({\"feature_names\":X_train.columns, \"Beta\":feature_imp[0], \"AbsBeta\":abs(feature_imp[0])})\n",
    "# Get the sorted values\n",
    "coef_table = coef_table.sort_values(by = 'AbsBeta', ascending = False)\n",
    "print(\"The most important features in the model are: \\n\")\n",
    "coef_table"
   ]
  },
  {
   "cell_type": "code",
   "execution_count": null,
   "metadata": {},
   "outputs": [],
   "source": []
  }
 ],
 "metadata": {
  "kernelspec": {
   "display_name": "Python 3",
   "language": "python",
   "name": "python3"
  },
  "language_info": {
   "codemirror_mode": {
    "name": "ipython",
    "version": 3
   },
   "file_extension": ".py",
   "mimetype": "text/x-python",
   "name": "python",
   "nbconvert_exporter": "python",
   "pygments_lexer": "ipython3",
   "version": "3.7.1"
  }
 },
 "nbformat": 4,
 "nbformat_minor": 2
}
